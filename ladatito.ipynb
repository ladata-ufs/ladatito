{
  "nbformat": 4,
  "nbformat_minor": 0,
  "metadata": {
    "colab": {
      "provenance": [],
      "include_colab_link": true
    },
    "kernelspec": {
      "name": "python3",
      "display_name": "Python 3"
    },
    "language_info": {
      "name": "python"
    }
  },
  "cells": [
    {
      "cell_type": "markdown",
      "metadata": {
        "id": "view-in-github",
        "colab_type": "text"
      },
      "source": [
        "<a href=\"https://colab.research.google.com/github/ladata-ufs/ladatito/blob/dev/ladatito.ipynb\" target=\"_parent\"><img src=\"https://colab.research.google.com/assets/colab-badge.svg\" alt=\"Open In Colab\"/></a>"
      ]
    },
    {
      "cell_type": "markdown",
      "source": [
        "# **ladatito**\n",
        "O bot assistente da LADATA (Liga Acadêmica de Ciência de Dados)."
      ],
      "metadata": {
        "id": "JiQBKL6fJqo2"
      }
    },
    {
      "cell_type": "markdown",
      "source": [
        "### **Equipe**\n",
        "Nayla Sahra Santos das Chagas\n",
        "> nayla.chagas@dcomp.ufs.br <br>\n",
        "ORCID: https://orcid.org/0009-0004-8268-5484\n",
        "\n",
        "\n",
        "\n",
        "Túlio Sousa de Gois\n",
        "> tulio.gois@dcomp.ufs.br<br>\n",
        "ORCID: https://orcid.org/0009-0000-5270-8033"
      ],
      "metadata": {
        "id": "Dip801JMUTkr"
      }
    },
    {
      "cell_type": "markdown",
      "source": [
        "## **Recursos e requisitos**\n"
      ],
      "metadata": {
        "id": "f-VbqbMzLh1N"
      }
    },
    {
      "cell_type": "markdown",
      "source": [
        "O ladatito foi desenvolvido para ser um chatbot para o Discord, dessa forma, algumas bibliotecas não serão necessárias para a sua execução no Colab.\n",
        "Assim, a seção que trata das bibliotecas será divididas em duas partes:\n",
        "- Bibliotecas (Gerais);\n",
        "- Biblitoecas (Discord).\n",
        "\n",
        "---\n",
        "\n",
        "* **Modelo**<br>\n",
        "`gemini-pro`   - [Link para API](https://ai.google.dev/models/gemini?hl=pt-br)\n",
        "* **Bibliotecas (Gerais)**<br>\n",
        "    - [google-generativeai](https://github.com/google/generative-ai-python)<br>\n",
        "    `pip install google-generativeai`\n",
        "    - [chromadb](https://github.com/chroma-core/chroma)<br>\n",
        "    `pip install chromadb`\n",
        "    - [pypdf](https://pypdf.readthedocs.io/en/stable/)<br>\n",
        "    `pip install pypdf`\n",
        "* **Bibliotecas (Discord)**<br>\n",
        "    - [discord](https://discordpy.readthedocs.io/en/stable/)<br>\n",
        "    `pip install discord`\n",
        "    - [aiohttp](https://docs.aiohttp.org/en/stable/)<br>\n",
        "    `pip install aiohttp`\n",
        "* **Documentos (RAG)**\n",
        "    - [Projeto da LADATA](https://drive.google.com/file/d/15Uk5I3y6y0mRbOi21LBb4oPXUcUH2T3r/view?usp=sharing)\n",
        "    - [Estatuto da LADATA](https://drive.google.com/file/d/1W7WDEYyxLbEJpBI0CmpLu9cfNGghVt2R/view?usp=sharing)\n",
        "\n"
      ],
      "metadata": {
        "id": "r359ND1yLx-J"
      }
    },
    {
      "cell_type": "markdown",
      "source": [
        "**! Atenção !**<br> _Para o correto funcionamento do RAG é necessário baixar os documentos e fazer o upload para o Google Colab_\n",
        "\n",
        "---"
      ],
      "metadata": {
        "id": "7oh0ZmVoX1cD"
      }
    },
    {
      "cell_type": "markdown",
      "source": [
        "# **ladatito**\n",
        "> versão _Google Colab_"
      ],
      "metadata": {
        "id": "32zFZkQRVXBj"
      }
    },
    {
      "cell_type": "markdown",
      "source": [
        "## **Configurações básicas**"
      ],
      "metadata": {
        "id": "q94r08wnKKH_"
      }
    },
    {
      "cell_type": "markdown",
      "source": [
        "### **Instalação das bibliotecas**"
      ],
      "metadata": {
        "id": "B8doYmiyKPD0"
      }
    },
    {
      "cell_type": "code",
      "source": [
        "!pip install --quiet google-generativeai\n",
        "!pip install --quiet chromadb\n",
        "!pip install --quiet pypdf"
      ],
      "metadata": {
        "id": "Reza_vaEUEbh",
        "colab": {
          "base_uri": "https://localhost:8080/"
        },
        "outputId": "282930e1-babf-49a5-f296-ef8a514cbd1d"
      },
      "execution_count": null,
      "outputs": [
        {
          "output_type": "stream",
          "name": "stdout",
          "text": [
            "\u001b[2K     \u001b[90m━━━━━━━━━━━━━━━━━━━━━━━━━━━━━━━━━━━━━━━━\u001b[0m \u001b[32m525.5/525.5 kB\u001b[0m \u001b[31m3.5 MB/s\u001b[0m eta \u001b[36m0:00:00\u001b[0m\n",
            "\u001b[2K     \u001b[90m━━━━━━━━━━━━━━━━━━━━━━━━━━━━━━━━━━━━━━━━\u001b[0m \u001b[32m2.4/2.4 MB\u001b[0m \u001b[31m22.3 MB/s\u001b[0m eta \u001b[36m0:00:00\u001b[0m\n",
            "\u001b[2K     \u001b[90m━━━━━━━━━━━━━━━━━━━━━━━━━━━━━━━━━━━━━━━━\u001b[0m \u001b[32m91.9/91.9 kB\u001b[0m \u001b[31m7.9 MB/s\u001b[0m eta \u001b[36m0:00:00\u001b[0m\n",
            "\u001b[2K     \u001b[90m━━━━━━━━━━━━━━━━━━━━━━━━━━━━━━━━━━━━━━━━\u001b[0m \u001b[32m60.8/60.8 kB\u001b[0m \u001b[31m4.9 MB/s\u001b[0m eta \u001b[36m0:00:00\u001b[0m\n",
            "\u001b[2K     \u001b[90m━━━━━━━━━━━━━━━━━━━━━━━━━━━━━━━━━━━━━━━━\u001b[0m \u001b[32m41.3/41.3 kB\u001b[0m \u001b[31m2.8 MB/s\u001b[0m eta \u001b[36m0:00:00\u001b[0m\n",
            "\u001b[2K     \u001b[90m━━━━━━━━━━━━━━━━━━━━━━━━━━━━━━━━━━━━━━━━\u001b[0m \u001b[32m5.4/5.4 MB\u001b[0m \u001b[31m52.9 MB/s\u001b[0m eta \u001b[36m0:00:00\u001b[0m\n",
            "\u001b[2K     \u001b[90m━━━━━━━━━━━━━━━━━━━━━━━━━━━━━━━━━━━━━━━━\u001b[0m \u001b[32m6.8/6.8 MB\u001b[0m \u001b[31m50.7 MB/s\u001b[0m eta \u001b[36m0:00:00\u001b[0m\n",
            "\u001b[2K     \u001b[90m━━━━━━━━━━━━━━━━━━━━━━━━━━━━━━━━━━━━━━━━\u001b[0m \u001b[32m60.1/60.1 kB\u001b[0m \u001b[31m6.3 MB/s\u001b[0m eta \u001b[36m0:00:00\u001b[0m\n",
            "\u001b[2K     \u001b[90m━━━━━━━━━━━━━━━━━━━━━━━━━━━━━━━━━━━━━━━━\u001b[0m \u001b[32m106.1/106.1 kB\u001b[0m \u001b[31m11.3 MB/s\u001b[0m eta \u001b[36m0:00:00\u001b[0m\n",
            "\u001b[2K     \u001b[90m━━━━━━━━━━━━━━━━━━━━━━━━━━━━━━━━━━━━━━━━\u001b[0m \u001b[32m67.3/67.3 kB\u001b[0m \u001b[31m6.7 MB/s\u001b[0m eta \u001b[36m0:00:00\u001b[0m\n",
            "\u001b[?25h  Installing build dependencies ... \u001b[?25l\u001b[?25hdone\n",
            "  Getting requirements to build wheel ... \u001b[?25l\u001b[?25hdone\n",
            "  Preparing metadata (pyproject.toml) ... \u001b[?25l\u001b[?25hdone\n",
            "\u001b[2K     \u001b[90m━━━━━━━━━━━━━━━━━━━━━━━━━━━━━━━━━━━━━━━━\u001b[0m \u001b[32m698.9/698.9 kB\u001b[0m \u001b[31m43.1 MB/s\u001b[0m eta \u001b[36m0:00:00\u001b[0m\n",
            "\u001b[2K     \u001b[90m━━━━━━━━━━━━━━━━━━━━━━━━━━━━━━━━━━━━━━━━\u001b[0m \u001b[32m1.6/1.6 MB\u001b[0m \u001b[31m52.4 MB/s\u001b[0m eta \u001b[36m0:00:00\u001b[0m\n",
            "\u001b[2K     \u001b[90m━━━━━━━━━━━━━━━━━━━━━━━━━━━━━━━━━━━━━━━━\u001b[0m \u001b[32m67.6/67.6 kB\u001b[0m \u001b[31m6.4 MB/s\u001b[0m eta \u001b[36m0:00:00\u001b[0m\n",
            "\u001b[2K     \u001b[90m━━━━━━━━━━━━━━━━━━━━━━━━━━━━━━━━━━━━━━━━\u001b[0m \u001b[32m144.8/144.8 kB\u001b[0m \u001b[31m14.9 MB/s\u001b[0m eta \u001b[36m0:00:00\u001b[0m\n",
            "\u001b[2K     \u001b[90m━━━━━━━━━━━━━━━━━━━━━━━━━━━━━━━━━━━━━━━━\u001b[0m \u001b[32m71.9/71.9 kB\u001b[0m \u001b[31m6.5 MB/s\u001b[0m eta \u001b[36m0:00:00\u001b[0m\n",
            "\u001b[2K     \u001b[90m━━━━━━━━━━━━━━━━━━━━━━━━━━━━━━━━━━━━━━━━\u001b[0m \u001b[32m46.0/46.0 kB\u001b[0m \u001b[31m4.5 MB/s\u001b[0m eta \u001b[36m0:00:00\u001b[0m\n",
            "\u001b[2K     \u001b[90m━━━━━━━━━━━━━━━━━━━━━━━━━━━━━━━━━━━━━━━━\u001b[0m \u001b[32m50.8/50.8 kB\u001b[0m \u001b[31m5.1 MB/s\u001b[0m eta \u001b[36m0:00:00\u001b[0m\n",
            "\u001b[2K     \u001b[90m━━━━━━━━━━━━━━━━━━━━━━━━━━━━━━━━━━━━━━━━\u001b[0m \u001b[32m58.3/58.3 kB\u001b[0m \u001b[31m6.1 MB/s\u001b[0m eta \u001b[36m0:00:00\u001b[0m\n",
            "\u001b[2K     \u001b[90m━━━━━━━━━━━━━━━━━━━━━━━━━━━━━━━━━━━━━━━━\u001b[0m \u001b[32m341.4/341.4 kB\u001b[0m \u001b[31m29.7 MB/s\u001b[0m eta \u001b[36m0:00:00\u001b[0m\n",
            "\u001b[2K     \u001b[90m━━━━━━━━━━━━━━━━━━━━━━━━━━━━━━━━━━━━━━━━\u001b[0m \u001b[32m3.4/3.4 MB\u001b[0m \u001b[31m46.4 MB/s\u001b[0m eta \u001b[36m0:00:00\u001b[0m\n",
            "\u001b[2K     \u001b[90m━━━━━━━━━━━━━━━━━━━━━━━━━━━━━━━━━━━━━━━━\u001b[0m \u001b[32m1.3/1.3 MB\u001b[0m \u001b[31m53.4 MB/s\u001b[0m eta \u001b[36m0:00:00\u001b[0m\n",
            "\u001b[2K     \u001b[90m━━━━━━━━━━━━━━━━━━━━━━━━━━━━━━━━━━━━━━━━\u001b[0m \u001b[32m130.2/130.2 kB\u001b[0m \u001b[31m13.9 MB/s\u001b[0m eta \u001b[36m0:00:00\u001b[0m\n",
            "\u001b[2K     \u001b[90m━━━━━━━━━━━━━━━━━━━━━━━━━━━━━━━━━━━━━━━━\u001b[0m \u001b[32m86.8/86.8 kB\u001b[0m \u001b[31m11.4 MB/s\u001b[0m eta \u001b[36m0:00:00\u001b[0m\n",
            "\u001b[?25h  Building wheel for pypika (pyproject.toml) ... \u001b[?25l\u001b[?25hdone\n",
            "\u001b[2K     \u001b[90m━━━━━━━━━━━━━━━━━━━━━━━━━━━━━━━━━━━━━━━━\u001b[0m \u001b[32m290.4/290.4 kB\u001b[0m \u001b[31m2.2 MB/s\u001b[0m eta \u001b[36m0:00:00\u001b[0m\n",
            "\u001b[?25h"
          ]
        }
      ]
    },
    {
      "cell_type": "markdown",
      "source": [
        "### **imports**"
      ],
      "metadata": {
        "id": "p1-jkUXpJ_QU"
      }
    },
    {
      "cell_type": "code",
      "source": [
        "import re\n",
        "import chromadb\n",
        "from chromadb import Documents, EmbeddingFunction, Embeddings\n",
        "from pypdf import PdfReader\n",
        "from typing import List\n",
        "import google.generativeai as genai\n",
        "\n",
        "#armazenar chave da API do Colab\n",
        "from google.colab import userdata\n",
        "\n",
        "#bibliotecas necessárias para exibição\n",
        "import textwrap\n",
        "from IPython.display import display\n",
        "from IPython.display import Markdown"
      ],
      "metadata": {
        "id": "dU2vElIaV-gi"
      },
      "execution_count": null,
      "outputs": []
    },
    {
      "cell_type": "markdown",
      "source": [
        "### **Conexão com a API do Google**"
      ],
      "metadata": {
        "id": "UblR_DTGKHVX"
      }
    },
    {
      "cell_type": "code",
      "source": [
        "GOOGLE_API_KEY=userdata.get('GOOGLE_API_KEY')\n",
        "\n",
        "genai.configure(api_key=GOOGLE_API_KEY)"
      ],
      "metadata": {
        "id": "fCTFHkUVF_tu"
      },
      "execution_count": null,
      "outputs": []
    },
    {
      "cell_type": "markdown",
      "source": [
        "## **Classes e métodos do ladatito**"
      ],
      "metadata": {
        "id": "9e6VZnGlKXrI"
      }
    },
    {
      "cell_type": "markdown",
      "source": [
        "### **Geração de embeddings**"
      ],
      "metadata": {
        "id": "8LVC47-6Kmwa"
      }
    },
    {
      "cell_type": "code",
      "source": [
        "class GeminiEmbeddingFunction(EmbeddingFunction):\n",
        "    def __call__(self, input: Documents) -> Embeddings:\n",
        "        model = \"models/embedding-001\"\n",
        "        title = \"Custom query\"\n",
        "        return genai.embed_content(model=model,\n",
        "                                   content=input,\n",
        "                                   task_type=\"retrieval_document\",\n",
        "                                   title=title)[\"embedding\"]"
      ],
      "metadata": {
        "id": "WD2ZC2pJKpk5"
      },
      "execution_count": null,
      "outputs": []
    },
    {
      "cell_type": "markdown",
      "source": [
        "### **Processamento dos Documentos e preparação de ambiente para RAG**\n"
      ],
      "metadata": {
        "id": "MiFRx2ytMENk"
      }
    },
    {
      "cell_type": "code",
      "source": [
        "class EnviromentLADATITO():\n",
        "    def __init__(self):\n",
        "        self.key = \"\"\n",
        "        self.arquivos = [\"/content/Estatuto da Liga Acadêmica de Ciência de Dados (LADATA).pdf\", \"/content/Projeto da Liga Acadêmica de Ciência de Dados (LADATA).pdf\"]\n",
        "        self.db_path = \"ladatito_db\"\n",
        "        self.name = \"ladatito\"\n",
        "\n",
        "    def load_pdf(self):\n",
        "        text = \"\"\n",
        "\n",
        "        for arquivo in self.arquivos:\n",
        "            reader = PdfReader(arquivo)\n",
        "\n",
        "            for page in reader.pages:\n",
        "                text += page.extract_text()\n",
        "\n",
        "        return text\n",
        "\n",
        "    def split_text(self):\n",
        "\n",
        "        text = self.load_pdf()\n",
        "        split_text = re.split('/n /n', text)\n",
        "        return [i for i in split_text if i != \"\"]\n",
        "\n",
        "    def create_chroma_db(self):\n",
        "\n",
        "        chroma_client = chromadb.PersistentClient(path= self.db_path)\n",
        "        db = chroma_client.create_collection(name= self.name, embedding_function=GeminiEmbeddingFunction())\n",
        "\n",
        "        for i, d in enumerate(self.split_text()):\n",
        "            db.add(documents=d, ids=str(i))\n",
        "\n",
        "        return db, self.name\n",
        "\n",
        "    def load_chroma_collection(self):\n",
        "        chroma_client = chromadb.PersistentClient(path = self.db_path)\n",
        "        db = chroma_client.get_collection(name = self.name, embedding_function=GeminiEmbeddingFunction())\n",
        "\n",
        "        return db"
      ],
      "metadata": {
        "id": "tYHQCCbyD7C9"
      },
      "execution_count": null,
      "outputs": []
    },
    {
      "cell_type": "markdown",
      "source": [
        "### **Classe geradora do ladatito**"
      ],
      "metadata": {
        "id": "o0ArvBOHNGOI"
      }
    },
    {
      "cell_type": "code",
      "source": [
        "class GenerateLADATITO(EnviromentLADATITO):\n",
        "\n",
        "    def __init__(self):\n",
        "        self.enviroment = EnviromentLADATITO().create_chroma_db()\n",
        "        self.db = EnviromentLADATITO().load_chroma_collection()\n",
        "        self.key = GOOGLE_API_KEY\n",
        "\n",
        "    def get_relevant_passage(self, query):\n",
        "        passage = self.db.query(query_texts=[query], n_results=10)['documents'][0]\n",
        "        return passage\n",
        "\n",
        "\n",
        "    def make_rag_prompt(self, query, relevant_passage):\n",
        "        escaped = relevant_passage.replace(\"'\", \"\").replace('\"', \"\").replace(\"/n\", \" \")\n",
        "        prompt = (\"\"\"Você é um bot útil e informativo, chamado Ladatito, que responde a perguntas sobre a LADATA usando o texto da passagem de referência incluída abaixo. /\n",
        "        Certifique-se de responder em uma frase completa, sendo abrangente, incluindo todas as informações básicas relevantes. /\n",
        "        No entanto, você está falando para um público não técnico, portanto, analise conceitos complicados e/ou\n",
        "        adote um tom amigável e descontraído, de modo a sempre cumprimentar seu público de forma calorosa. Caso queiram saber quem você é, identifique-se como Ladatito e explique que sua função é tirar toda e quaisquer dúvidas em relação à LADATA. /\n",
        "        Se a passagem for irrelevante para a resposta, você pode ignorá-la.\n",
        "        PERGUNTA: '{query}'\n",
        "        PASSAGEM: '{relevant_passage}'\n",
        "\n",
        "        RESPOSTA:\n",
        "        \"\"\").format(query=query, relevant_passage=escaped)\n",
        "\n",
        "        return prompt\n",
        "\n",
        "    def make_general_prompt(self, query):\n",
        "        prompt = \"\"\"Você é um bot útil e informativo, chamado ladatito,\n",
        "        que responde a perguntas sobre o universo dos dados em geral.\n",
        "        Leve em consideração que seu público pode ser iniciante no assunto perguntado, com isso\n",
        "        explique de forma detalhada e sem termos muito técnicos,mas mantendo a corretude,\n",
        "        responda a pergunta a seguir: {pergunta}\"\"\".format(pergunta = query)\n",
        "\n",
        "        return prompt\n",
        "\n",
        "    def exibir_resposta(texto):\n",
        "        texto = texto.replace('•', '  *')\n",
        "\n",
        "        return display(Markdown(textwrap.indent(texto, '> ', predicate=lambda _: True)))\n",
        "\n",
        "    def generate_answer(self, prompt):\n",
        "\n",
        "        genai.configure(api_key= self.key)\n",
        "        model = genai.GenerativeModel('gemini-pro')\n",
        "        answer = model.generate_content(prompt)\n",
        "\n",
        "        return answer.text\n",
        "\n",
        "    def respond_query(self, query):\n",
        "        relevant_text = self.get_relevant_passage(query)\n",
        "        prompt = self.make_rag_prompt(query, relevant_passage=\"\".join(relevant_text))\n",
        "\n",
        "        answer = self.generate_answer(prompt)\n",
        "\n",
        "        return answer\n",
        "\n",
        "    def respond_general_query(self, query):\n",
        "        prompt = self.make_general_prompt(query)\n",
        "\n",
        "        answer = self.generate_answer(prompt)\n",
        "\n",
        "        return answer"
      ],
      "metadata": {
        "id": "7fgqk3eKNC6Q"
      },
      "execution_count": null,
      "outputs": []
    },
    {
      "cell_type": "markdown",
      "source": [
        "## **Em execução**"
      ],
      "metadata": {
        "id": "7GSKWklkNUvw"
      }
    },
    {
      "cell_type": "markdown",
      "source": [
        "### **Construindo o ladatito**"
      ],
      "metadata": {
        "id": "k-RL5VHQNdFN"
      }
    },
    {
      "cell_type": "code",
      "source": [
        "ladatito = GenerateLADATITO()"
      ],
      "metadata": {
        "id": "homriRl9H6L4"
      },
      "execution_count": null,
      "outputs": []
    },
    {
      "cell_type": "markdown",
      "source": [
        "### **Chat interativo**"
      ],
      "metadata": {
        "id": "W8AYnxhkNgkW"
      }
    },
    {
      "cell_type": "code",
      "source": [
        "display(Markdown(\"\"\"##**ladatito**\n",
        "O chatbot amiguito da LADATA\n",
        "\n",
        "---\"\"\"))\n",
        "\n",
        "print(\"Como posso te ajudar hoje?\\n\")\n",
        "while True:\n",
        "    pergunta = input()\n",
        "\n",
        "    if \"SAIR\" in pergunta:\n",
        "        print(\"\\nMuito obrigado por utilizar o ladatito!\")\n",
        "        break\n",
        "    elif \"LADATA\" in pergunta.upper():\n",
        "        resposta = ladatito.respond_query(pergunta)\n",
        "        GenerateLADATITO.exibir_resposta(resposta)\n",
        "        print(\"-\"*50)\n",
        "        print(\"\\nCaso deseje encerrar o chat, digite 'SAIR'\\n\")\n",
        "    else:\n",
        "        resposta = ladatito.respond_general_query(pergunta)\n",
        "        GenerateLADATITO.exibir_resposta(resposta)\n",
        "        print(\"-\"*50)\n",
        "        print(\"\\nCaso deseje encerrar o chat, digite 'SAIR'\\n\")"
      ],
      "metadata": {
        "id": "hR4wW1u68e9z",
        "colab": {
          "base_uri": "https://localhost:8080/",
          "height": 1000
        },
        "outputId": "3684bb5f-df36-4914-ed5a-a5c1146ee782"
      },
      "execution_count": null,
      "outputs": [
        {
          "output_type": "display_data",
          "data": {
            "text/plain": [
              "<IPython.core.display.Markdown object>"
            ],
            "text/markdown": "##**ladatito**\nO chatbot amiguito da LADATA\n\n---"
          },
          "metadata": {}
        },
        {
          "name": "stdout",
          "output_type": "stream",
          "text": [
            "Como posso te ajudar hoje?\n",
            "\n",
            "o que edmilton faz na ladata?\n"
          ]
        },
        {
          "output_type": "stream",
          "name": "stderr",
          "text": [
            "WARNING:chromadb.segment.impl.vector.local_persistent_hnsw:Number of requested results 100 is greater than number of elements in index 1, updating n_results = 1\n"
          ]
        },
        {
          "output_type": "display_data",
          "data": {
            "text/plain": [
              "<IPython.core.display.Markdown object>"
            ],
            "text/markdown": "> Edmilson não desempenha nenhuma função específica na LADATA."
          },
          "metadata": {}
        },
        {
          "name": "stdout",
          "output_type": "stream",
          "text": [
            "--------------------------------------------------\n",
            "\n",
            "Caso deseje encerrar o chat, digite 'SAIR'\n",
            "\n",
            "o que edimilton faz na ladata?\n"
          ]
        },
        {
          "output_type": "stream",
          "name": "stderr",
          "text": [
            "WARNING:chromadb.segment.impl.vector.local_persistent_hnsw:Number of requested results 100 is greater than number of elements in index 1, updating n_results = 1\n"
          ]
        },
        {
          "output_type": "display_data",
          "data": {
            "text/plain": [
              "<IPython.core.display.Markdown object>"
            ],
            "text/markdown": "> Como diretor da Liga Acadêmica de Ciência de Dados (LADATA), edimilton rocha santana ferreira é responsável por propor e coordenar eventos, cursos, minicursos e palestras dentro e fora da Universidade Federal de Sergipe."
          },
          "metadata": {}
        },
        {
          "name": "stdout",
          "output_type": "stream",
          "text": [
            "--------------------------------------------------\n",
            "\n",
            "Caso deseje encerrar o chat, digite 'SAIR'\n",
            "\n",
            "como se cria um dataframe em pandas?\n"
          ]
        },
        {
          "output_type": "display_data",
          "data": {
            "text/plain": [
              "<IPython.core.display.Markdown object>"
            ],
            "text/markdown": "> **Como criar um DataFrame no Pandas**\n> \n> O Pandas é uma biblioteca Python poderosa para manipulação e análise de dados. Um DataFrame é uma estrutura de dados tabular no Pandas que organiza dados em linhas e colunas, semelhante a uma planilha. Aqui estão as etapas para criar um DataFrame:\n> \n> **1. Importar Pandas:**\n> \n> Comece importando o Pandas para seu script Python:\n> \n> ```python\n> import pandas as pd\n> ```\n> \n> **2. Criar um DataFrame a partir de uma lista de dicionários:**\n> \n> Uma maneira de criar um DataFrame é fornecer uma lista de dicionários, onde cada dicionário representa uma linha e as chaves representam as colunas. Por exemplo:\n> \n> ```python\n> dados = [\n>     {'nome': 'João', 'idade': 30, 'cidade': 'São Paulo'},\n>     {'nome': 'Maria', 'idade': 25, 'cidade': 'Rio de Janeiro'},\n>     {'nome': 'Pedro', 'idade': 22, 'cidade': 'Belo Horizonte'}\n> ]\n> \n> df = pd.DataFrame(dados)\n> ```\n> \n> Esta linha criará um DataFrame com três linhas e três colunas: 'nome', 'idade' e 'cidade'.\n> \n> **3. Criar um DataFrame a partir de um dicionário:**\n> \n> Se você tiver um único dicionário, poderá criar um DataFrame com colunas com base nas chaves do dicionário:\n> \n> ```python\n> dados = {'nome': ['João', 'Maria', 'Pedro'], 'idade': [30, 25, 22]}\n> \n> df = pd.DataFrame(dados)\n> ```\n> \n> **4. Criar um DataFrame a partir de uma série:**\n> \n> Você também pode criar um DataFrame a partir de uma Série Pandas, que é uma estrutura de dados unidimensional:\n> \n> ```python\n> serie = pd.Series([30, 25, 22])\n> \n> df = pd.DataFrame({'idade': serie})\n> ```\n> \n> **5. Especificar tipos de dados:**\n> \n> Ao criar um DataFrame, você pode especificar os tipos de dados para cada coluna usando o parâmetro `dtype`:\n> \n> ```python\n> dados = [\n>     {'nome': 'João', 'idade': '30', 'cidade': 'São Paulo'},\n>     {'nome': 'Maria', 'idade': '25', 'cidade': 'Rio de Janeiro'},\n>     {'nome': 'Pedro', 'idade': '22', 'cidade': 'Belo Horizonte'}\n> ]\n> \n> df = pd.DataFrame(dados, dtype={'idade': int})\n> ```\n> \n> **6. Criar um DataFrame vazio:**\n> \n> Para criar um DataFrame vazio, use a função `DataFrame()`:\n> \n> ```python\n> df = pd.DataFrame()\n> ```\n> \n> Você pode adicionar dados posteriormente usando o método `assign()`."
          },
          "metadata": {}
        },
        {
          "output_type": "stream",
          "name": "stdout",
          "text": [
            "--------------------------------------------------\n",
            "\n",
            "Caso deseje encerrar o chat, digite 'SAIR'\n",
            "\n",
            "SAIR\n",
            "\n",
            "Muito obrigado por utilizar o ladatito!\n"
          ]
        }
      ]
    }
  ]
}