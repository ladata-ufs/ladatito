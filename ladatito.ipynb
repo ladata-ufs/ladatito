{
  "nbformat": 4,
  "nbformat_minor": 0,
  "metadata": {
    "colab": {
      "provenance": []
    },
    "kernelspec": {
      "name": "python3",
      "display_name": "Python 3"
    },
    "language_info": {
      "name": "python"
    }
  },
  "cells": [
    {
      "cell_type": "markdown",
      "source": [
        "# **ladatito**\n",
        "O bot assistente da LADATA (Liga Acadêmica de Ciência de Dados)."
      ],
      "metadata": {
        "id": "JiQBKL6fJqo2"
      }
    },
    {
      "cell_type": "markdown",
      "source": [
        "### **Equipe**\n",
        "Nayla Sahra Santos das Chagas\n",
        "> nayla.chagas@dcomp.ufs.br <br>\n",
        "ORCID: https://orcid.org/0009-0004-8268-5484\n",
        "\n",
        "\n",
        "\n",
        "Túlio Sousa de Gois\n",
        "> tulio.gois@dcomp.ufs.br<br>\n",
        "ORCID: https://orcid.org/0009-0000-5270-8033"
      ],
      "metadata": {
        "id": "Dip801JMUTkr"
      }
    },
    {
      "cell_type": "markdown",
      "source": [
        "## **Recursos e requisitos**\n"
      ],
      "metadata": {
        "id": "f-VbqbMzLh1N"
      }
    },
    {
      "cell_type": "markdown",
      "source": [
        "O ladatito foi desenvolvido para ser um chatbot para o Discord, dessa forma, algumas bibliotecas não serão necessárias para a sua execução no Colab.\n",
        "Assim, a seção que trata das bibliotecas será divididas em duas partes:\n",
        "- Bibliotecas (Gerais);\n",
        "- Biblitoecas (Discord).\n",
        "\n",
        "---\n",
        "\n",
        "* **Modelo**<br>\n",
        "`gemini-pro`   - [Link para API](https://ai.google.dev/models/gemini?hl=pt-br)\n",
        "* **Bibliotecas (Gerais)**<br>\n",
        "    - [google-generativeai](https://github.com/google/generative-ai-python)<br>\n",
        "    `pip install google-generativeai`\n",
        "    - [chromadb](https://github.com/chroma-core/chroma)<br>\n",
        "    `pip install chromadb`\n",
        "    - [pypdf](https://pypdf.readthedocs.io/en/stable/)<br>\n",
        "    `pip install pypdf`\n",
        "* **Bibliotecas (Discord)**<br>\n",
        "    - [discord](https://discordpy.readthedocs.io/en/stable/)<br>\n",
        "    `pip install discord`\n",
        "    - [aiohttp](https://docs.aiohttp.org/en/stable/)<br>\n",
        "    `pip install aiohttp`\n",
        "* **Documentos (RAG)**\n",
        "    - [Projeto da LADATA](https://drive.google.com/file/d/15Uk5I3y6y0mRbOi21LBb4oPXUcUH2T3r/view?usp=sharing)\n",
        "    - [Estatuto da LADATA](https://drive.google.com/file/d/1W7WDEYyxLbEJpBI0CmpLu9cfNGghVt2R/view?usp=sharing)\n",
        "\n"
      ],
      "metadata": {
        "id": "r359ND1yLx-J"
      }
    },
    {
      "cell_type": "markdown",
      "source": [
        "**! Atenção !**<br> _Para o correto funcionamento do RAG é necessário baixar os documentos e fazer o upload para o Google Colab_\n",
        "\n",
        "---"
      ],
      "metadata": {
        "id": "7oh0ZmVoX1cD"
      }
    },
    {
      "cell_type": "markdown",
      "source": [
        "# **ladatito**\n",
        "> versão _Google Colab_"
      ],
      "metadata": {
        "id": "32zFZkQRVXBj"
      }
    },
    {
      "cell_type": "markdown",
      "source": [
        "## **Configurações básicas**"
      ],
      "metadata": {
        "id": "q94r08wnKKH_"
      }
    },
    {
      "cell_type": "markdown",
      "source": [
        "### **Instalação das bibliotecas**"
      ],
      "metadata": {
        "id": "B8doYmiyKPD0"
      }
    },
    {
      "cell_type": "code",
      "source": [
        "!pip install --quiet google-generativeai\n",
        "!pip install --quiet chromadb\n",
        "!pip install --quiet pypdf"
      ],
      "metadata": {
        "id": "Reza_vaEUEbh"
      },
      "execution_count": null,
      "outputs": []
    },
    {
      "cell_type": "markdown",
      "source": [
        "### **imports**"
      ],
      "metadata": {
        "id": "p1-jkUXpJ_QU"
      }
    },
    {
      "cell_type": "code",
      "source": [
        "import re\n",
        "import chromadb\n",
        "from chromadb import Documents, EmbeddingFunction, Embeddings\n",
        "from pypdf import PdfReader\n",
        "from typing import List\n",
        "import google.generativeai as genai\n",
        "\n",
        "#armazenar chave da API do Colab\n",
        "from google.colab import userdata\n",
        "\n",
        "#bibliotecas necessárias para exibição\n",
        "import textwrap\n",
        "from IPython.display import display\n",
        "from IPython.display import Markdown"
      ],
      "metadata": {
        "id": "dU2vElIaV-gi"
      },
      "execution_count": null,
      "outputs": []
    },
    {
      "cell_type": "markdown",
      "source": [
        "### **Conexão com a API do Google**"
      ],
      "metadata": {
        "id": "UblR_DTGKHVX"
      }
    },
    {
      "cell_type": "code",
      "source": [
        "GOOGLE_API_KEY=userdata.get('GOOGLE_API_KEY')\n",
        "\n",
        "genai.configure(api_key=GOOGLE_API_KEY)"
      ],
      "metadata": {
        "id": "fCTFHkUVF_tu"
      },
      "execution_count": null,
      "outputs": []
    },
    {
      "cell_type": "markdown",
      "source": [
        "## **Classes e métodos do ladatito**"
      ],
      "metadata": {
        "id": "9e6VZnGlKXrI"
      }
    },
    {
      "cell_type": "markdown",
      "source": [
        "### **Geração de embeddings**"
      ],
      "metadata": {
        "id": "8LVC47-6Kmwa"
      }
    },
    {
      "cell_type": "code",
      "source": [
        "class GeminiEmbeddingFunction(EmbeddingFunction):\n",
        "    def __call__(self, input: Documents) -> Embeddings:\n",
        "        model = \"models/embedding-001\"\n",
        "        title = \"Custom query\"\n",
        "        return genai.embed_content(model=model,\n",
        "                                   content=input,\n",
        "                                   task_type=\"retrieval_document\",\n",
        "                                   title=title)[\"embedding\"]"
      ],
      "metadata": {
        "id": "WD2ZC2pJKpk5"
      },
      "execution_count": 15,
      "outputs": []
    },
    {
      "cell_type": "markdown",
      "source": [
        "### **Processamento dos Documentos para RAG**"
      ],
      "metadata": {
        "id": "MiFRx2ytMENk"
      }
    },
    {
      "cell_type": "code",
      "source": [
        "class EnviromentLADATITO():\n",
        "    def __init__(self):\n",
        "        self.key = \"\"\n",
        "        self.arquivos = \"/content/Estatuto da Liga Acadêmica de Ciência de Dados (LADATA).pdf\"\n",
        "        self.db_path = \"ladatito_db\"\n",
        "        self.name = \"ladatito\"\n",
        "\n",
        "    def load_pdf(self):\n",
        "        reader = PdfReader(self.arquivos)\n",
        "\n",
        "        text = \"\"\n",
        "        for page in reader.pages:\n",
        "            text += page.extract_text()\n",
        "\n",
        "        return text\n",
        "\n",
        "    def split_text(self):\n",
        "\n",
        "        text = self.load_pdf()\n",
        "        split_text = re.split('/n /n', text)\n",
        "        return [i for i in split_text if i != \"\"]\n",
        "\n",
        "    def create_chroma_db(self):\n",
        "\n",
        "        chroma_client = chromadb.PersistentClient(path= self.db_path)\n",
        "        db = chroma_client.create_collection(name= self.name, embedding_function=GeminiEmbeddingFunction())\n",
        "\n",
        "        for i, d in enumerate(self.split_text()):\n",
        "            db.add(documents=d, ids=str(i))\n",
        "\n",
        "        return db, self.name\n",
        "\n",
        "    def load_chroma_collection(self):\n",
        "        chroma_client = chromadb.PersistentClient(path = self.db_path)\n",
        "        db = chroma_client.get_collection(name = self.name, embedding_function=GeminiEmbeddingFunction())\n",
        "\n",
        "        return db"
      ],
      "metadata": {
        "id": "tYHQCCbyD7C9"
      },
      "execution_count": 16,
      "outputs": []
    },
    {
      "cell_type": "markdown",
      "source": [
        "### **Classe geradora do ladatito**"
      ],
      "metadata": {
        "id": "o0ArvBOHNGOI"
      }
    },
    {
      "cell_type": "code",
      "source": [
        "class GenerateLADATITO(EnviromentLADATITO):\n",
        "\n",
        "    def __init__(self):\n",
        "        self.enviroment = EnviromentLADATITO().create_chroma_db()\n",
        "        self.db = EnviromentLADATITO().load_chroma_collection()\n",
        "        self.key = GOOGLE_API_KEY\n",
        "\n",
        "    def get_relevant_passage(self, query):\n",
        "        passage = self.db.query(query_texts=[query], n_results=100)['documents'][0]\n",
        "        return passage\n",
        "\n",
        "\n",
        "    def make_rag_prompt(self, query, relevant_passage):\n",
        "        escaped = relevant_passage.replace(\"'\", \"\").replace('\"', \"\").replace(\"/n\", \" \")\n",
        "        prompt = (\"\"\"Você é um bot útil e informativo, chamado Ladatito, que responde a perguntas sobre a LADATA usando o texto da passagem de referência incluída abaixo. /\n",
        "        Certifique-se de responder em uma frase completa, sendo abrangente, incluindo todas as informações básicas relevantes. /\n",
        "        No entanto, você está falando para um público não técnico, portanto, analise conceitos complicados e/ou\n",
        "        adote um tom amigável e descontraído, de modo a sempre cumprimentar seu público de forma calorosa. Caso queiram saber quem você é, identifique-se como Ladatito e explique que sua função é tirar toda e quaisquer dúvidas em relação à LADATA. /\n",
        "        Se a passagem for irrelevante para a resposta, você pode ignorá-la.\n",
        "        PERGUNTA: '{query}'\n",
        "        PASSAGEM: '{relevant_passage}'\n",
        "\n",
        "        RESPOSTA:\n",
        "        \"\"\").format(query=query, relevant_passage=escaped)\n",
        "\n",
        "        return prompt\n",
        "\n",
        "    def exibir_resposta(texto):\n",
        "        texto = texto.replace('•', '  *')\n",
        "\n",
        "        return display(Markdown(textwrap.indent(texto, '> ', predicate=lambda _: True)))\n",
        "\n",
        "    def generate_answer(self, prompt):\n",
        "\n",
        "        genai.configure(api_key= self.key)\n",
        "        model = genai.GenerativeModel('gemini-pro')\n",
        "        answer = model.generate_content(prompt)\n",
        "\n",
        "        return answer.text\n",
        "\n",
        "    def respond_query(self, query):\n",
        "        relevant_text = self.get_relevant_passage(query)\n",
        "        prompt = self.make_rag_prompt(query, relevant_passage=\"\".join(relevant_text)) # joining the relevant chunks to create a single passage\n",
        "\n",
        "        answer = self.generate_answer(prompt)\n",
        "\n",
        "        return answer"
      ],
      "metadata": {
        "id": "7fgqk3eKNC6Q"
      },
      "execution_count": 17,
      "outputs": []
    },
    {
      "cell_type": "markdown",
      "source": [
        "## **Em execução**"
      ],
      "metadata": {
        "id": "7GSKWklkNUvw"
      }
    },
    {
      "cell_type": "markdown",
      "source": [
        "### **Construindo o ladatito**"
      ],
      "metadata": {
        "id": "k-RL5VHQNdFN"
      }
    },
    {
      "cell_type": "code",
      "source": [
        "ladatito = GenerateLADATITO()"
      ],
      "metadata": {
        "id": "homriRl9H6L4"
      },
      "execution_count": 18,
      "outputs": []
    },
    {
      "cell_type": "markdown",
      "source": [
        "### **Chat interativo**"
      ],
      "metadata": {
        "id": "W8AYnxhkNgkW"
      }
    },
    {
      "cell_type": "code",
      "source": [
        "display(Markdown(\"\"\"##**ladatito**\n",
        "O chatbot amiguito da LADATA\n",
        "\n",
        "---\"\"\"))\n",
        "\n",
        "print(\"Como posso te ajudar hoje?\\n\")\n",
        "while True:\n",
        "    pergunta = input()\n",
        "\n",
        "    if \"SAIR\" in pergunta:\n",
        "        print(\"\\nMuito obrigado por utilizar o ladatito!\")\n",
        "        break\n",
        "    elif \"!LADATA\" in pergunta:\n",
        "        resposta = ladatito.respond_query(pergunta)\n",
        "        GenerateLADATITO.exibir_resposta(resposta)\n",
        "        print(\"-\"*50)\n",
        "        print(\"\\nCaso deseje encerrar o chat, digite 'SAIR'\\n\")\n",
        "    else:\n",
        "        resposta = ladatito.generate_answer(pergunta)\n",
        "        GenerateLADATITO.exibir_resposta(resposta)\n",
        "        print(\"-\"*50)\n",
        "        print(\"\\nCaso deseje encerrar o chat, digite 'SAIR'\\n\")"
      ],
      "metadata": {
        "id": "hR4wW1u68e9z",
        "colab": {
          "base_uri": "https://localhost:8080/",
          "height": 353
        },
        "outputId": "ffe7633a-82e9-45c4-eccd-59ad275cb2bf"
      },
      "execution_count": 43,
      "outputs": [
        {
          "output_type": "display_data",
          "data": {
            "text/plain": [
              "<IPython.core.display.Markdown object>"
            ],
            "text/markdown": "##**ladatito**\nO chatbot amiguito da LADATA\n\n---"
          },
          "metadata": {}
        },
        {
          "name": "stdout",
          "output_type": "stream",
          "text": [
            "Como posso te ajudar hoje?\n",
            "\n",
            "\n",
            "!LADATA o que faz a ladata?\n"
          ]
        },
        {
          "output_type": "stream",
          "name": "stderr",
          "text": [
            "WARNING:chromadb.segment.impl.vector.local_persistent_hnsw:Number of requested results 100 is greater than number of elements in index 1, updating n_results = 1\n"
          ]
        },
        {
          "output_type": "display_data",
          "data": {
            "text/plain": [
              "<IPython.core.display.Markdown object>"
            ],
            "text/markdown": "> A LADATA é uma associação civil sem fins lucrativos, ligada ao Departamento de Computação da Universidade Federal de Sergipe, composta por discentes e docentes, que tem por objetivos promover atividades acadêmicas complementares à formação dos estudantes de ciência da computação, incentivando o desenvolvimento científico, técnico, cultural e profissional dos alunos."
          },
          "metadata": {}
        },
        {
          "name": "stdout",
          "output_type": "stream",
          "text": [
            "--------------------------------------------------\n",
            "\n",
            "Caso deseje encerrar o chat, digite 'SAIR'\n",
            "\n",
            "SAIR\n"
          ]
        }
      ]
    }
  ]
}